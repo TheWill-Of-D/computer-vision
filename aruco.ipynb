{
 "cells": [
  {
   "cell_type": "code",
   "execution_count": 1,
   "metadata": {},
   "outputs": [],
   "source": [
    "import cv2\n",
    "import cv2.aruco as aruco\n",
    "import numpy as np"
   ]
  },
  {
   "cell_type": "code",
   "execution_count": 2,
   "metadata": {},
   "outputs": [],
   "source": [
    "# Set the size of the calibration pattern (in meters)\n",
    "patternSize = (0.02, 0.02)\n",
    "\n",
    "# Set the number of inner corners in the calibration pattern\n",
    "patternCorners = (9, 6)"
   ]
  },
  {
   "cell_type": "code",
   "execution_count": 3,
   "metadata": {},
   "outputs": [],
   "source": [
    "# Create an array to store the 3D coordinates of the pattern points\n",
    "patternPoints = np.zeros((np.prod(patternCorners), 3), np.float32)\n",
    "patternPoints[:, :2] = np.indices(patternCorners).T.reshape(-1, 2)\n",
    "patternPoints[:, :2] *= patternSize\n",
    "\n",
    "# Create arrays to store the image points and object points\n",
    "imagePoints = []\n",
    "objectPoints = []"
   ]
  },
  {
   "cell_type": "code",
   "execution_count": 4,
   "metadata": {},
   "outputs": [],
   "source": [
    "# Open a video capture object\n",
    "cap = cv2.VideoCapture(0)"
   ]
  },
  {
   "cell_type": "code",
   "execution_count": 5,
   "metadata": {},
   "outputs": [],
   "source": [
    "# Set a flag to indicate whether calibration is done\n",
    "calibrationDone = False\n",
    "\n",
    "while not calibrationDone:\n",
    "    # Capture a frame from the camera\n",
    "    ret, frame = cap.read()\n",
    "\n",
    "    # Convert the frame to grayscale\n",
    "    gray = cv2.cvtColor(frame, cv2.COLOR_BGR2GRAY)\n",
    "\n",
    "    # Find the chessboard corners in the frame\n",
    "    ret, corners = cv2.findChessboardCorners(gray, patternCorners)\n",
    "\n",
    "    # If the chessboard corners were found\n",
    "    if ret:\n",
    "\n",
    "\n",
    "        # Refine the corner locations\n",
    "        corners = cv2.cornerSubPix(gray, corners, (11, 11), (-1, -1), (cv2.TERM_CRITERIA_EPS + cv2.TERM_CRITERIA_MAX_ITER, 30, 0.1))\n",
    "\n",
    "        # Draw the chessboard corners on the frame\n",
    "        cv2.drawChessboardCorners(frame, patternCorners, corners, ret)\n",
    "\n",
    "        # Add the image points and object points to their respective arrays\n",
    "        imagePoints.append(corners)\n",
    "        objectPoints.append(patternPoints)\n",
    "\n",
    "        # Check if enough points have been collected for calibration\n",
    "        if len(imagePoints) >= 10:\n",
    "            # Calibrate the camera using the collected points\n",
    "            ret, mtx, dist, rvecs, tvecs = cv2.calibrateCamera(objectPoints, imagePoints, gray.shape[::-1], None, None)\n",
    "\n",
    "            # Extract the focal length from the camera matrix\n",
    "            focalLength = mtx[0][0]\n",
    "\n",
    "            # Save the camera matrix and distortion coefficients to a file\n",
    "            np.savez(\"calibration.npz\", mtx=mtx, dist=dist)\n",
    "            \n",
    "            \n",
    "            # Set the flag to indicate that calibration is done\n",
    "            calibrationDone = True\n",
    "\n",
    "\n",
    "\n"
   ]
  },
  {
   "cell_type": "code",
   "execution_count": 6,
   "metadata": {},
   "outputs": [
    {
     "ename": "TypeError",
     "evalue": "only size-1 arrays can be converted to Python scalars",
     "output_type": "error",
     "traceback": [
      "\u001b[1;31m---------------------------------------------------------------------------\u001b[0m",
      "\u001b[1;31mTypeError\u001b[0m                                 Traceback (most recent call last)",
      "\u001b[1;32m~\\AppData\\Local\\Temp\\ipykernel_26448\\3351208923.py\u001b[0m in \u001b[0;36m<module>\u001b[1;34m\u001b[0m\n\u001b[0;32m     32\u001b[0m             \u001b[1;31m# Draw a label with the distance and confidence level on top of the marker\u001b[0m\u001b[1;33m\u001b[0m\u001b[1;33m\u001b[0m\u001b[1;33m\u001b[0m\u001b[0m\n\u001b[0;32m     33\u001b[0m             cv2.putText(frame, f\"{distance:.2f}m (confidence: {confidence})\",\n\u001b[1;32m---> 34\u001b[1;33m                         \u001b[1;33m(\u001b[0m\u001b[0mint\u001b[0m\u001b[1;33m(\u001b[0m\u001b[0mcorner\u001b[0m\u001b[1;33m[\u001b[0m\u001b[1;36m0\u001b[0m\u001b[1;33m]\u001b[0m\u001b[1;33m)\u001b[0m\u001b[1;33m,\u001b[0m \u001b[0mint\u001b[0m\u001b[1;33m(\u001b[0m\u001b[0mcorner\u001b[0m\u001b[1;33m[\u001b[0m\u001b[1;36m1\u001b[0m\u001b[1;33m]\u001b[0m\u001b[1;33m)\u001b[0m \u001b[1;33m-\u001b[0m \u001b[1;36m10\u001b[0m\u001b[1;33m)\u001b[0m\u001b[1;33m,\u001b[0m\u001b[1;33m\u001b[0m\u001b[1;33m\u001b[0m\u001b[0m\n\u001b[0m\u001b[0;32m     35\u001b[0m                         cv2.FONT_HERSHEY_SIMPLEX, 0.5, (0, 255, 0), 2)\n\u001b[0;32m     36\u001b[0m \u001b[1;33m\u001b[0m\u001b[0m\n",
      "\u001b[1;31mTypeError\u001b[0m: only size-1 arrays can be converted to Python scalars"
     ]
    }
   ],
   "source": [
    "# Specify the ArUco dictionary\n",
    "arucoDict = cv2.aruco.Dictionary_get(cv2.aruco.DICT_4X4_100)\n",
    "\n",
    "# Define the ArUco detection parameters\n",
    "arucoParams = cv2.aruco.DetectorParameters_create()\n",
    "\n",
    "# Set the size of the marker (in meters)\n",
    "markerSize = 0.10\n",
    "\n",
    "\n",
    "while True:\n",
    "    ret, frame = cap.read()\n",
    "\n",
    "    # Detect the ArUco markers in the frame\n",
    "    corners, ids, _ = cv2.aruco.detectMarkers(frame, arucoDict, parameters=arucoParams)\n",
    "\n",
    "    if ids is not None:\n",
    "        # Estimate the pose of each detected marker\n",
    "        rvecs, tvecs, _ = cv2.aruco.estimatePoseSingleMarkers(corners, markerSize, mtx, dist)\n",
    "\n",
    "        # Loop over each detected marker\n",
    "        for i in range(len(ids)):\n",
    "            # Calculate the distance of the marker from the camera\n",
    "            distance = np.linalg.norm(tvecs[i])\n",
    "\n",
    "            # Calculate the confidence level based on the distance\n",
    "            confidence = 10  # Assuming maximum confidence since we don't have reprojection error\n",
    "\n",
    "            # Get the corner coordinates of the marker\n",
    "            corner = corners[i][0]\n",
    "\n",
    "            # Draw a label with the distance and confidence level on top of the marker\n",
    "            cv2.putText(frame, f\"{distance:.2f}m (confidence: {confidence})\",\n",
    "                        (int(corner[0]), int(corner[1]) - 10),\n",
    "                        cv2.FONT_HERSHEY_SIMPLEX, 0.5, (0, 255, 0), 2)\n",
    "\n",
    "    # Draw the detected markers on the frame\n",
    "    frame = cv2.aruco.drawDetectedMarkers(frame, corners, ids)\n",
    "\n",
    "    # Show the output frame\n",
    "    cv2.imshow(\"Frame\", frame)\n",
    "    key = cv2.waitKey(1) & 0xFF\n",
    "\n",
    "    # If the 'q' key is pressed or if 'ESC' key is pressed, stop the loop.\n",
    "    if key == ord(\"q\") or key == 27:\n",
    "        break\n"
   ]
  },
  {
   "cell_type": "code",
   "execution_count": 7,
   "metadata": {},
   "outputs": [],
   "source": [
    "# Release the video capture object\n",
    "cap.release()\n",
    "\n",
    "# Close all windows\n",
    "cv2.destroyAllWindows()"
   ]
  }
 ],
 "metadata": {
  "kernelspec": {
   "display_name": "mrcaruco",
   "language": "python",
   "name": "python3"
  },
  "language_info": {
   "codemirror_mode": {
    "name": "ipython",
    "version": 3
   },
   "file_extension": ".py",
   "mimetype": "text/x-python",
   "name": "python",
   "nbconvert_exporter": "python",
   "pygments_lexer": "ipython3",
   "version": "3.7.16"
  },
  "orig_nbformat": 4
 },
 "nbformat": 4,
 "nbformat_minor": 2
}
